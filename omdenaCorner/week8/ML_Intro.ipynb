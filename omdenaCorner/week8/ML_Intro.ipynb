{
 "cells": [
  {
   "cell_type": "markdown",
   "id": "943b9826-ffca-4b88-a5e5-71c6942cae89",
   "metadata": {},
   "source": [
    "# Fundamentals of Machine Learning\n",
    "- Numpy, Pandas, Matplotlib, Seaborn\n",
    "- Supervised machine learning:\n",
    "      - Linear Regression\n",
    "      - Logistic Regression\n",
    "      - Decision Trees & Random Forest\n",
    "      - Support Vector Machines\n",
    "- Unsupervised Machine Learning\n",
    "      - K-Means Clustering\n",
    "      - Hierarchical clustering\n",
    "      - DBSCAN\n",
    "      - Principal Component Analysis (PCA)\n",
    "# Advanced Machine Learning\n",
    "- Time Series analysis and forecasting\n",
    "- handling GeoSpatial data\n",
    "- "
   ]
  },
  {
   "cell_type": "code",
   "execution_count": null,
   "id": "e546efb7-e718-4377-9dad-5ad634eb8c5d",
   "metadata": {},
   "outputs": [],
   "source": []
  }
 ],
 "metadata": {
  "kernelspec": {
   "display_name": "Python 3 (ipykernel)",
   "language": "python",
   "name": "python3"
  },
  "language_info": {
   "codemirror_mode": {
    "name": "ipython",
    "version": 3
   },
   "file_extension": ".py",
   "mimetype": "text/x-python",
   "name": "python",
   "nbconvert_exporter": "python",
   "pygments_lexer": "ipython3",
   "version": "3.12.7"
  }
 },
 "nbformat": 4,
 "nbformat_minor": 5
}
